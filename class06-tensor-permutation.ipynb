{
 "cells": [
  {
   "cell_type": "markdown",
   "id": "4951636a",
   "metadata": {},
   "source": [
    "### We might need to change the input data layout to better utilize the tensorflow data structure"
   ]
  },
  {
   "cell_type": "code",
   "execution_count": 1,
   "id": "82d239b0",
   "metadata": {},
   "outputs": [
    {
     "name": "stderr",
     "output_type": "stream",
     "text": [
      "2022-08-24 15:34:47.248989: I tensorflow/stream_executor/platform/default/dso_loader.cc:49] Successfully opened dynamic library libcudart.so.10.1\n"
     ]
    }
   ],
   "source": [
    "import tensorflow as tf\n",
    "import numpy as np"
   ]
  },
  {
   "cell_type": "markdown",
   "id": "579fc816",
   "metadata": {},
   "source": [
    "### create a 4d tensor : (2,3,4,1)"
   ]
  },
  {
   "cell_type": "code",
   "execution_count": 2,
   "id": "4593eacd",
   "metadata": {},
   "outputs": [],
   "source": [
    "# numpy array\n",
    "array_4d = np.zeros((2, 3, 4, 1))"
   ]
  },
  {
   "cell_type": "code",
   "execution_count": 3,
   "id": "55be3927",
   "metadata": {},
   "outputs": [
    {
     "data": {
      "text/plain": [
       "4"
      ]
     },
     "execution_count": 3,
     "metadata": {},
     "output_type": "execute_result"
    }
   ],
   "source": [
    "array_4d.ndim"
   ]
  },
  {
   "cell_type": "code",
   "execution_count": 4,
   "id": "ada9e10e",
   "metadata": {},
   "outputs": [
    {
     "data": {
      "text/plain": [
       "(2, 3, 4, 1)"
      ]
     },
     "execution_count": 4,
     "metadata": {},
     "output_type": "execute_result"
    }
   ],
   "source": [
    "array_4d.shape"
   ]
  },
  {
   "cell_type": "code",
   "execution_count": 5,
   "id": "e0469f45",
   "metadata": {},
   "outputs": [
    {
     "data": {
      "text/plain": [
       "24"
      ]
     },
     "execution_count": 5,
     "metadata": {},
     "output_type": "execute_result"
    }
   ],
   "source": [
    "array_4d.size"
   ]
  },
  {
   "cell_type": "code",
   "execution_count": 6,
   "id": "0352b266",
   "metadata": {},
   "outputs": [],
   "source": [
    "val = 0\n",
    "for i in range(0,2):\n",
    "    for j in range(0,3):\n",
    "        for m in range(0,4):\n",
    "            for n in range(0,1):\n",
    "                val = val + 1\n",
    "                array_4d[i,j,m,n] = val \n",
    "                #print(array_4d[i,j,m,n])"
   ]
  },
  {
   "cell_type": "code",
   "execution_count": 7,
   "id": "bf64c4a8",
   "metadata": {},
   "outputs": [
    {
     "data": {
      "text/plain": [
       "array([[[[ 1.],\n",
       "         [ 2.],\n",
       "         [ 3.],\n",
       "         [ 4.]],\n",
       "\n",
       "        [[ 5.],\n",
       "         [ 6.],\n",
       "         [ 7.],\n",
       "         [ 8.]],\n",
       "\n",
       "        [[ 9.],\n",
       "         [10.],\n",
       "         [11.],\n",
       "         [12.]]],\n",
       "\n",
       "\n",
       "       [[[13.],\n",
       "         [14.],\n",
       "         [15.],\n",
       "         [16.]],\n",
       "\n",
       "        [[17.],\n",
       "         [18.],\n",
       "         [19.],\n",
       "         [20.]],\n",
       "\n",
       "        [[21.],\n",
       "         [22.],\n",
       "         [23.],\n",
       "         [24.]]]])"
      ]
     },
     "execution_count": 7,
     "metadata": {},
     "output_type": "execute_result"
    }
   ],
   "source": [
    "# for x in np.nditer(array_4d):\n",
    "#     print(x)\n",
    "\n",
    "array_4d"
   ]
  },
  {
   "cell_type": "code",
   "execution_count": 8,
   "id": "d7bb5970",
   "metadata": {},
   "outputs": [
    {
     "name": "stderr",
     "output_type": "stream",
     "text": [
      "2022-08-24 15:34:48.562595: I tensorflow/compiler/jit/xla_cpu_device.cc:41] Not creating XLA devices, tf_xla_enable_xla_devices not set\n",
      "2022-08-24 15:34:48.563932: I tensorflow/stream_executor/platform/default/dso_loader.cc:49] Successfully opened dynamic library libcuda.so.1\n",
      "2022-08-24 15:34:48.610025: I tensorflow/core/common_runtime/gpu/gpu_device.cc:1720] Found device 0 with properties: \n",
      "pciBusID: 0000:03:00.0 name: NVIDIA GeForce RTX 2070 computeCapability: 7.5\n",
      "coreClock: 1.62GHz coreCount: 36 deviceMemorySize: 7.79GiB deviceMemoryBandwidth: 417.29GiB/s\n",
      "2022-08-24 15:34:48.610797: I tensorflow/core/common_runtime/gpu/gpu_device.cc:1720] Found device 1 with properties: \n",
      "pciBusID: 0000:04:00.0 name: NVIDIA GeForce RTX 2070 computeCapability: 7.5\n",
      "coreClock: 1.62GHz coreCount: 36 deviceMemorySize: 7.79GiB deviceMemoryBandwidth: 417.29GiB/s\n",
      "2022-08-24 15:34:48.610833: I tensorflow/stream_executor/platform/default/dso_loader.cc:49] Successfully opened dynamic library libcudart.so.10.1\n",
      "2022-08-24 15:34:48.612560: I tensorflow/stream_executor/platform/default/dso_loader.cc:49] Successfully opened dynamic library libcublas.so.10\n",
      "2022-08-24 15:34:48.612599: I tensorflow/stream_executor/platform/default/dso_loader.cc:49] Successfully opened dynamic library libcublasLt.so.10\n",
      "2022-08-24 15:34:48.614122: I tensorflow/stream_executor/platform/default/dso_loader.cc:49] Successfully opened dynamic library libcufft.so.10\n",
      "2022-08-24 15:34:48.614377: I tensorflow/stream_executor/platform/default/dso_loader.cc:49] Successfully opened dynamic library libcurand.so.10\n",
      "2022-08-24 15:34:48.616023: I tensorflow/stream_executor/platform/default/dso_loader.cc:49] Successfully opened dynamic library libcusolver.so.10\n",
      "2022-08-24 15:34:48.616950: I tensorflow/stream_executor/platform/default/dso_loader.cc:49] Successfully opened dynamic library libcusparse.so.10\n",
      "2022-08-24 15:34:48.620513: I tensorflow/stream_executor/platform/default/dso_loader.cc:49] Successfully opened dynamic library libcudnn.so.7\n",
      "2022-08-24 15:34:48.623215: I tensorflow/core/common_runtime/gpu/gpu_device.cc:1862] Adding visible gpu devices: 0, 1\n",
      "2022-08-24 15:34:48.624032: I tensorflow/core/platform/cpu_feature_guard.cc:142] This TensorFlow binary is optimized with oneAPI Deep Neural Network Library (oneDNN) to use the following CPU instructions in performance-critical operations:  SSE4.1 SSE4.2 AVX AVX2 FMA\n",
      "To enable them in other operations, rebuild TensorFlow with the appropriate compiler flags.\n",
      "2022-08-24 15:34:48.624525: I tensorflow/compiler/jit/xla_gpu_device.cc:99] Not creating XLA devices, tf_xla_enable_xla_devices not set\n",
      "2022-08-24 15:34:48.785722: I tensorflow/core/common_runtime/gpu/gpu_device.cc:1720] Found device 0 with properties: \n",
      "pciBusID: 0000:03:00.0 name: NVIDIA GeForce RTX 2070 computeCapability: 7.5\n",
      "coreClock: 1.62GHz coreCount: 36 deviceMemorySize: 7.79GiB deviceMemoryBandwidth: 417.29GiB/s\n",
      "2022-08-24 15:34:48.786406: I tensorflow/core/common_runtime/gpu/gpu_device.cc:1720] Found device 1 with properties: \n",
      "pciBusID: 0000:04:00.0 name: NVIDIA GeForce RTX 2070 computeCapability: 7.5\n",
      "coreClock: 1.62GHz coreCount: 36 deviceMemorySize: 7.79GiB deviceMemoryBandwidth: 417.29GiB/s\n",
      "2022-08-24 15:34:48.786440: I tensorflow/stream_executor/platform/default/dso_loader.cc:49] Successfully opened dynamic library libcudart.so.10.1\n",
      "2022-08-24 15:34:48.786466: I tensorflow/stream_executor/platform/default/dso_loader.cc:49] Successfully opened dynamic library libcublas.so.10\n",
      "2022-08-24 15:34:48.786481: I tensorflow/stream_executor/platform/default/dso_loader.cc:49] Successfully opened dynamic library libcublasLt.so.10\n",
      "2022-08-24 15:34:48.786494: I tensorflow/stream_executor/platform/default/dso_loader.cc:49] Successfully opened dynamic library libcufft.so.10\n",
      "2022-08-24 15:34:48.786508: I tensorflow/stream_executor/platform/default/dso_loader.cc:49] Successfully opened dynamic library libcurand.so.10\n",
      "2022-08-24 15:34:48.786521: I tensorflow/stream_executor/platform/default/dso_loader.cc:49] Successfully opened dynamic library libcusolver.so.10\n",
      "2022-08-24 15:34:48.786534: I tensorflow/stream_executor/platform/default/dso_loader.cc:49] Successfully opened dynamic library libcusparse.so.10\n",
      "2022-08-24 15:34:48.786548: I tensorflow/stream_executor/platform/default/dso_loader.cc:49] Successfully opened dynamic library libcudnn.so.7\n",
      "2022-08-24 15:34:48.789205: I tensorflow/core/common_runtime/gpu/gpu_device.cc:1862] Adding visible gpu devices: 0, 1\n",
      "2022-08-24 15:34:48.789244: I tensorflow/stream_executor/platform/default/dso_loader.cc:49] Successfully opened dynamic library libcudart.so.10.1\n",
      "2022-08-24 15:34:49.718109: I tensorflow/core/common_runtime/gpu/gpu_device.cc:1261] Device interconnect StreamExecutor with strength 1 edge matrix:\n",
      "2022-08-24 15:34:49.718143: I tensorflow/core/common_runtime/gpu/gpu_device.cc:1267]      0 1 \n",
      "2022-08-24 15:34:49.718150: I tensorflow/core/common_runtime/gpu/gpu_device.cc:1280] 0:   N N \n",
      "2022-08-24 15:34:49.718154: I tensorflow/core/common_runtime/gpu/gpu_device.cc:1280] 1:   N N \n",
      "2022-08-24 15:34:49.720860: I tensorflow/core/common_runtime/gpu/gpu_device.cc:1406] Created TensorFlow device (/job:localhost/replica:0/task:0/device:GPU:0 with 7229 MB memory) -> physical GPU (device: 0, name: NVIDIA GeForce RTX 2070, pci bus id: 0000:03:00.0, compute capability: 7.5)\n",
      "2022-08-24 15:34:49.722342: I tensorflow/core/common_runtime/gpu/gpu_device.cc:1406] Created TensorFlow device (/job:localhost/replica:0/task:0/device:GPU:1 with 7276 MB memory) -> physical GPU (device: 1, name: NVIDIA GeForce RTX 2070, pci bus id: 0000:04:00.0, compute capability: 7.5)\n"
     ]
    }
   ],
   "source": [
    "# convert it to tensorflow\n",
    "tensor4d = tf.convert_to_tensor(array_4d)"
   ]
  },
  {
   "cell_type": "code",
   "execution_count": 9,
   "id": "7194e3a7",
   "metadata": {},
   "outputs": [
    {
     "data": {
      "text/plain": [
       "<tf.Tensor: shape=(2, 3, 4, 1), dtype=float64, numpy=\n",
       "array([[[[ 1.],\n",
       "         [ 2.],\n",
       "         [ 3.],\n",
       "         [ 4.]],\n",
       "\n",
       "        [[ 5.],\n",
       "         [ 6.],\n",
       "         [ 7.],\n",
       "         [ 8.]],\n",
       "\n",
       "        [[ 9.],\n",
       "         [10.],\n",
       "         [11.],\n",
       "         [12.]]],\n",
       "\n",
       "\n",
       "       [[[13.],\n",
       "         [14.],\n",
       "         [15.],\n",
       "         [16.]],\n",
       "\n",
       "        [[17.],\n",
       "         [18.],\n",
       "         [19.],\n",
       "         [20.]],\n",
       "\n",
       "        [[21.],\n",
       "         [22.],\n",
       "         [23.],\n",
       "         [24.]]]])>"
      ]
     },
     "execution_count": 9,
     "metadata": {},
     "output_type": "execute_result"
    }
   ],
   "source": [
    "# before transpose\n",
    "tensor4d"
   ]
  },
  {
   "cell_type": "code",
   "execution_count": 10,
   "id": "6e5ec625",
   "metadata": {},
   "outputs": [
    {
     "data": {
      "text/plain": [
       "<tf.Tensor: shape=(1, 3, 4, 2), dtype=float64, numpy=\n",
       "array([[[[ 1., 13.],\n",
       "         [ 2., 14.],\n",
       "         [ 3., 15.],\n",
       "         [ 4., 16.]],\n",
       "\n",
       "        [[ 5., 17.],\n",
       "         [ 6., 18.],\n",
       "         [ 7., 19.],\n",
       "         [ 8., 20.]],\n",
       "\n",
       "        [[ 9., 21.],\n",
       "         [10., 22.],\n",
       "         [11., 23.],\n",
       "         [12., 24.]]]])>"
      ]
     },
     "execution_count": 10,
     "metadata": {},
     "output_type": "execute_result"
    }
   ],
   "source": [
    "# switch the 1st dim and last dim\n",
    "# after transpose\n",
    "tf.transpose(tensor4d, perm=[3,1,2,0])"
   ]
  }
 ],
 "metadata": {
  "kernelspec": {
   "display_name": "Python [conda env:deeplearning] *",
   "language": "python",
   "name": "conda-env-deeplearning-py"
  },
  "language_info": {
   "codemirror_mode": {
    "name": "ipython",
    "version": 3
   },
   "file_extension": ".py",
   "mimetype": "text/x-python",
   "name": "python",
   "nbconvert_exporter": "python",
   "pygments_lexer": "ipython3",
   "version": "3.9.12"
  }
 },
 "nbformat": 4,
 "nbformat_minor": 5
}
